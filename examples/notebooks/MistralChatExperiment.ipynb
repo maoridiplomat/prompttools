{
 "cells": [
  {
   "cell_type": "markdown",
   "id": "0a13ddc8",
   "metadata": {},
   "source": [
    "# Mistral Chat Experiment Example"
   ]
  },
  {
   "cell_type": "markdown",
   "id": "623f0cfe",
   "metadata": {},
   "source": [
    "## Installations"
   ]
  },
  {
   "cell_type": "code",
   "execution_count": 1,
   "id": "885dabeb",
   "metadata": {},
   "outputs": [],
   "source": [
    "# !pip install --quiet --force-reinstall prompttools"
   ]
  },
  {
   "cell_type": "markdown",
   "id": "2eac35f8",
   "metadata": {},
   "source": [
    "## Setup imports and API keys"
   ]
  },
  {
   "cell_type": "markdown",
   "id": "5edba05a",
   "metadata": {},
   "source": [
    "First, we'll need to set our API keys. If we are in DEBUG mode, we don't need to use a real OpenAI key, so for now we'll set them to empty strings."
   ]
  },
  {
   "cell_type": "code",
   "execution_count": 14,
   "id": "ed4e635e",
   "metadata": {},
   "outputs": [],
   "source": [
    "import os\n",
    "\n",
    "os.environ[\"MISTRAL_API_KEY\"] = \"\"  # Insert your key here"
   ]
  },
  {
   "cell_type": "markdown",
   "id": "842f1e47",
   "metadata": {},
   "source": [
    "Then we'll import the relevant `prompttools` modules to setup our experiment."
   ]
  },
  {
   "cell_type": "code",
   "execution_count": 10,
   "id": "beaa70a1",
   "metadata": {},
   "outputs": [],
   "source": [
    "from prompttools.experiment import MistralChatCompletionExperiment"
   ]
  },
  {
   "cell_type": "markdown",
   "id": "622dea9a",
   "metadata": {},
   "source": [
    "## Run an experiment"
   ]
  },
  {
   "cell_type": "markdown",
   "id": "3babfe5a",
   "metadata": {},
   "source": [
    "Next, we create our test inputs. We can iterate over models, inputs, and configurations like temperature."
   ]
  },
  {
   "cell_type": "code",
   "execution_count": 11,
   "id": "9114cfbf",
   "metadata": {},
   "outputs": [],
   "source": [
    "from mistralai.models.chat_completion import ChatMessage\n",
    "\n",
    "models = [\"mistral-tiny\"]\n",
    "messages = [\n",
    "    [ChatMessage(role=\"system\", content=\"You are a helpful assistant.\"),\n",
    "     ChatMessage(role=\"user\", content=\"Who was the first president?\"),],\n",
    "    [ChatMessage(role=\"system\", content=\"You are a helpful assistant. Keep your answer concise\"),\n",
    "     ChatMessage(role=\"user\", content=\"Who was the second president?\"),],\n",
    "]\n",
    "temperatures = [0.0, 1.0]\n",
    "# You can add more parameters that you'd like to test here.\n",
    "\n",
    "experiment = MistralChatCompletionExperiment(models, messages, temperature=temperatures)"
   ]
  },
  {
   "cell_type": "markdown",
   "id": "f3fa5450",
   "metadata": {},
   "source": [
    "We can then run the experiment to get results."
   ]
  },
  {
   "cell_type": "code",
   "execution_count": 12,
   "id": "fbddc7fd",
   "metadata": {},
   "outputs": [],
   "source": [
    "experiment.run()"
   ]
  },
  {
   "cell_type": "code",
   "execution_count": 13,
   "id": "7598332b",
   "metadata": {},
   "outputs": [
    {
     "data": {
      "text/html": [
       "<div>\n",
       "<style scoped>\n",
       "    .dataframe tbody tr th:only-of-type {\n",
       "        vertical-align: middle;\n",
       "    }\n",
       "\n",
       "    .dataframe tbody tr th {\n",
       "        vertical-align: top;\n",
       "    }\n",
       "\n",
       "    .dataframe thead th {\n",
       "        text-align: right;\n",
       "    }\n",
       "</style>\n",
       "<table border=\"1\" class=\"dataframe\">\n",
       "  <thead>\n",
       "    <tr style=\"text-align: right;\">\n",
       "      <th></th>\n",
       "      <th>temperature</th>\n",
       "      <th>messages</th>\n",
       "      <th>response</th>\n",
       "      <th>latency</th>\n",
       "    </tr>\n",
       "  </thead>\n",
       "  <tbody>\n",
       "    <tr>\n",
       "      <th>0</th>\n",
       "      <td>0.0</td>\n",
       "      <td>[role='system' content='You are a helpful assistant.', role='user' content='Who was the first president?']</td>\n",
       "      <td>The first president of the United States was George Washington. He served two terms from April 30, 1789, to March 4, 1797. Washington played a crucial role in the founding of the United States and was unanimously chosen by the Electoral College to be the first president. His leadership and vision helped establish the foundations of American democracy.</td>\n",
       "      <td>1.334489</td>\n",
       "    </tr>\n",
       "    <tr>\n",
       "      <th>1</th>\n",
       "      <td>1.0</td>\n",
       "      <td>[role='system' content='You are a helpful assistant.', role='user' content='Who was the first president?']</td>\n",
       "      <td>The first president of the United States was George Washington. He served two terms from April 30, 1789, to March 4, 1797. Washington played a crucial role in the founding of the United States and is often referred to as the \"Father of His Country.\" His leadership during the American Revolution and his commitment to upholding the Constitution helped establish a sense of national identity and unity.</td>\n",
       "      <td>0.920111</td>\n",
       "    </tr>\n",
       "    <tr>\n",
       "      <th>2</th>\n",
       "      <td>0.0</td>\n",
       "      <td>[role='system' content='You are a helpful assistant. Keep your answer concise', role='user' content='Who was the second president?']</td>\n",
       "      <td>The second president of the United States was John Adams, serving from 1797 to 1801. He succeeded George Washington and was followed by Thomas Jefferson. Adams is known for his role in the American Revolution and his diplomacy in Europe.</td>\n",
       "      <td>0.628162</td>\n",
       "    </tr>\n",
       "    <tr>\n",
       "      <th>3</th>\n",
       "      <td>1.0</td>\n",
       "      <td>[role='system' content='You are a helpful assistant. Keep your answer concise', role='user' content='Who was the second president?']</td>\n",
       "      <td>The second president of the United States was John Adams, serving from 1797 to 1801. He succeeded George Washington and was preceded by Thomas Jefferson. Adams was a Founding Father and a leading figure in the American Revolution.</td>\n",
       "      <td>0.608941</td>\n",
       "    </tr>\n",
       "  </tbody>\n",
       "</table>\n",
       "</div>"
      ],
      "text/plain": [
       "   temperature  \\\n",
       "0  0.0           \n",
       "1  1.0           \n",
       "2  0.0           \n",
       "3  1.0           \n",
       "\n",
       "                                                                                                                               messages  \\\n",
       "0  [role='system' content='You are a helpful assistant.', role='user' content='Who was the first president?']                             \n",
       "1  [role='system' content='You are a helpful assistant.', role='user' content='Who was the first president?']                             \n",
       "2  [role='system' content='You are a helpful assistant. Keep your answer concise', role='user' content='Who was the second president?']   \n",
       "3  [role='system' content='You are a helpful assistant. Keep your answer concise', role='user' content='Who was the second president?']   \n",
       "\n",
       "                                                                                                                                                                                                                                                                                                                                                                                                            response  \\\n",
       "0  The first president of the United States was George Washington. He served two terms from April 30, 1789, to March 4, 1797. Washington played a crucial role in the founding of the United States and was unanimously chosen by the Electoral College to be the first president. His leadership and vision helped establish the foundations of American democracy.                                                   \n",
       "1  The first president of the United States was George Washington. He served two terms from April 30, 1789, to March 4, 1797. Washington played a crucial role in the founding of the United States and is often referred to as the \"Father of His Country.\" His leadership during the American Revolution and his commitment to upholding the Constitution helped establish a sense of national identity and unity.   \n",
       "2  The second president of the United States was John Adams, serving from 1797 to 1801. He succeeded George Washington and was followed by Thomas Jefferson. Adams is known for his role in the American Revolution and his diplomacy in Europe.                                                                                                                                                                       \n",
       "3  The second president of the United States was John Adams, serving from 1797 to 1801. He succeeded George Washington and was preceded by Thomas Jefferson. Adams was a Founding Father and a leading figure in the American Revolution.                                                                                                                                                                              \n",
       "\n",
       "    latency  \n",
       "0  1.334489  \n",
       "1  0.920111  \n",
       "2  0.628162  \n",
       "3  0.608941  "
      ]
     },
     "metadata": {},
     "output_type": "display_data"
    }
   ],
   "source": [
    "experiment.visualize()"
   ]
  },
  {
   "cell_type": "markdown",
   "id": "266c13eb",
   "metadata": {},
   "source": [
    "## Evaluate the model response"
   ]
  },
  {
   "cell_type": "markdown",
   "id": "bebb8023",
   "metadata": {},
   "source": [
    "We have many other examples of how you can evaluate the model's responses. Please reference the examples in the OpenAIChatExperiment notebook or AnthropicExperiment notebook."
   ]
  },
  {
   "cell_type": "code",
   "execution_count": null,
   "id": "78c0c9f6",
   "metadata": {},
   "outputs": [],
   "source": []
  }
 ],
 "metadata": {
  "kernelspec": {
   "display_name": "Python 3 (ipykernel)",
   "language": "python",
   "name": "python3"
  },
  "language_info": {
   "codemirror_mode": {
    "name": "ipython",
    "version": 3
   },
   "file_extension": ".py",
   "mimetype": "text/x-python",
   "name": "python",
   "nbconvert_exporter": "python",
   "pygments_lexer": "ipython3",
   "version": "3.11.4"
  }
 },
 "nbformat": 4,
 "nbformat_minor": 5
}
